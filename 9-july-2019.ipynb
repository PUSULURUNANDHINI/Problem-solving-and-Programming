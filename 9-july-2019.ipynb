{
 "cells": [
  {
   "cell_type": "code",
   "execution_count": 91,
   "metadata": {},
   "outputs": [
    {
     "name": "stdout",
     "output_type": "stream",
     "text": [
      "[1, 5, 7, 9, 6]\n",
      "1\n",
      "5\n",
      "6\n",
      "9\n",
      "[5, 7, 9, 6]\n",
      "[5, 7, 9]\n",
      "1\n",
      "9\n",
      "28\n",
      "5\n",
      "7.0\n",
      "[1, 5, 7, 9, 6, 4]\n",
      "[1, 1, 5, 7, 9, 6, 4]\n",
      "[1, 1, 5, 7, 9, 6, 4]\n",
      "[1, 1, 4, 5, 6, 7, 9]\n",
      "[1, 1, 4, 5, 6, 7]\n",
      "[1, 4, 5, 6, 7]\n",
      "[1, 4, 5, 6, 7, 100, 200, 300]\n",
      "[300, 200, 100]\n",
      "[300, 100]\n",
      "[1, 4, 5, 6, 7, 100, 300]\n"
     ]
    }
   ],
   "source": [
    "lst = [1,5,7,9,6]\n",
    "print(lst)\n",
    "print(lst[0])\n",
    "print(lst[1])\n",
    "print(lst[-1])\n",
    "print(lst[-2])\n",
    "print(lst[1:])\n",
    "print(lst[1:4])\n",
    "print(min(lst))\n",
    "print(max(lst))\n",
    "print(sum(lst))\n",
    "print(sum(lst) //len(lst))\n",
    "print(sum(lst[1::2])/len(lst[1::2]))\n",
    "lst\n",
    "lst.append(4)\n",
    "print(lst)\n",
    "lst\n",
    "lst.insert(1,1)\n",
    "print(lst)\n",
    "lst\n",
    "lst.count(1)\n",
    "print(lst)\n",
    "lst\n",
    "lst.sort()\n",
    "print(lst)\n",
    "lst\n",
    "lst.pop()\n",
    "print(lst)\n",
    "lst.pop(1)\n",
    "print(lst)\n",
    "lst2 =[100,200,300]\n",
    "lst.extend(lst2)\n",
    "print(lst)\n",
    "lst2.reverse()\n",
    "print(lst2)\n",
    "lst2.remove(200)\n",
    "print(lst2)\n",
    "lst.remove(200)\n",
    "print(lst)\n",
    "\n",
    "\n",
    "                          "
   ]
  },
  {
   "cell_type": "code",
   "execution_count": 100,
   "metadata": {},
   "outputs": [
    {
     "data": {
      "text/plain": [
       "40"
      ]
     },
     "execution_count": 100,
     "metadata": {},
     "output_type": "execute_result"
    }
   ],
   "source": [
    "\n",
    "def secondlarge(lst):\n",
    "    lst.sort()\n",
    "    return lst[-2]\n",
    "lst = [30,40,50]\n",
    "secondlarge(lst)"
   ]
  },
  {
   "cell_type": "code",
   "execution_count": 114,
   "metadata": {},
   "outputs": [
    {
     "name": "stdout",
     "output_type": "stream",
     "text": [
      "1 5 9 "
     ]
    }
   ],
   "source": [
    "def linearsearch(i,tarItem):\n",
    "    for x in range(len(li)):\n",
    "        if li[x]== tarItem:\n",
    "            print(x,end=' ')\n",
    "    return\n",
    "li=[1,5,6,7,4,5,6,2,3,5]\n",
    "linearsearch(li,5)"
   ]
  },
  {
   "cell_type": "code",
   "execution_count": 50,
   "metadata": {},
   "outputs": [
    {
     "ename": "IndentationError",
     "evalue": "unindent does not match any outer indentation level (<tokenize>, line 5)",
     "output_type": "error",
     "traceback": [
      "\u001b[1;36m  File \u001b[1;32m\"<tokenize>\"\u001b[1;36m, line \u001b[1;32m5\u001b[0m\n\u001b[1;33m    elif li[x-1] % 2 ==0 and li[x+1] % 2 == 0:\u001b[0m\n\u001b[1;37m    ^\u001b[0m\n\u001b[1;31mIndentationError\u001b[0m\u001b[1;31m:\u001b[0m unindent does not match any outer indentation level\n"
     ]
    }
   ],
   "source": [
    "def linearsearch(li):\n",
    "    for x in range(len(li)):\n",
    "        if x==0 or x== len(li) -1:\n",
    "                print(li[x],end=\" \")\n",
    "            elif li[x-1] % 2 ==0 and li[x+1] % 2 == 0:\n",
    "                print(li[x],end=\" \")\n",
    "    return\n",
    "li = [1,6,9,4,16,19,22]\n",
    "linearsearch(li)                       \n",
    "            \n",
    "            "
   ]
  },
  {
   "cell_type": "code",
   "execution_count": 22,
   "metadata": {},
   "outputs": [
    {
     "data": {
      "text/plain": [
       "[1, 4, 5, 6, 9]"
      ]
     },
     "execution_count": 22,
     "metadata": {},
     "output_type": "execute_result"
    }
   ],
   "source": [
    "def numberlistconversion(n):\n",
    "    li = []\n",
    "    while n != 0:\n",
    "        r = n %10\n",
    "        li.append(r)\n",
    "        n = n // 10\n",
    "    li.reverse()\n",
    "    return li \n",
    "numberlistconversion(14569)"
   ]
  },
  {
   "cell_type": "code",
   "execution_count": null,
   "metadata": {},
   "outputs": [],
   "source": []
  },
  {
   "cell_type": "code",
   "execution_count": null,
   "metadata": {},
   "outputs": [],
   "source": []
  },
  {
   "cell_type": "code",
   "execution_count": null,
   "metadata": {},
   "outputs": [],
   "source": []
  },
  {
   "cell_type": "code",
   "execution_count": null,
   "metadata": {},
   "outputs": [],
   "source": []
  },
  {
   "cell_type": "code",
   "execution_count": null,
   "metadata": {},
   "outputs": [],
   "source": []
  },
  {
   "cell_type": "code",
   "execution_count": null,
   "metadata": {},
   "outputs": [],
   "source": []
  },
  {
   "cell_type": "code",
   "execution_count": null,
   "metadata": {},
   "outputs": [],
   "source": []
  },
  {
   "cell_type": "code",
   "execution_count": null,
   "metadata": {},
   "outputs": [],
   "source": []
  },
  {
   "cell_type": "code",
   "execution_count": null,
   "metadata": {},
   "outputs": [],
   "source": []
  },
  {
   "cell_type": "code",
   "execution_count": null,
   "metadata": {},
   "outputs": [],
   "source": []
  },
  {
   "cell_type": "code",
   "execution_count": null,
   "metadata": {},
   "outputs": [],
   "source": []
  },
  {
   "cell_type": "code",
   "execution_count": null,
   "metadata": {},
   "outputs": [],
   "source": []
  }
 ],
 "metadata": {
  "kernelspec": {
   "display_name": "Python 3",
   "language": "python",
   "name": "python3"
  },
  "language_info": {
   "codemirror_mode": {
    "name": "ipython",
    "version": 3
   },
   "file_extension": ".py",
   "mimetype": "text/x-python",
   "name": "python",
   "nbconvert_exporter": "python",
   "pygments_lexer": "ipython3",
   "version": "3.7.3"
  }
 },
 "nbformat": 4,
 "nbformat_minor": 2
}
